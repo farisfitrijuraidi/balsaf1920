{
 "cells": [
  {
   "cell_type": "markdown",
   "id": "ccfa8b34-4ace-4ca9-b46a-4c9bd469ecd5",
   "metadata": {
    "tags": []
   },
   "source": [
    "# Data Science Tools and Ecosystem"
   ]
  },
  {
   "cell_type": "markdown",
   "id": "3ee81d76-17d2-4cec-8f13-f02f1fbc4548",
   "metadata": {},
   "source": [
    "In this notebook, Data Science Tools and Ecosystem are summarized."
   ]
  },
  {
   "cell_type": "markdown",
   "id": "5e3ccf36-4e36-46f0-9bfd-9a74278a9de1",
   "metadata": {},
   "source": [
    "__Objectives:__\n",
    "\n",
    "- List popular languages for Data Science\n",
    "- List popular libraries for Data Science\n",
    "- List popular development environment open source tools used for Data Science"
   ]
  },
  {
   "cell_type": "markdown",
   "id": "3fef4ed9-0fa4-4193-b7b7-5f821b0592c5",
   "metadata": {},
   "source": [
    "Some of the popular languages that Data Scientists use are:\n",
    "\n",
    "1. Python\n",
    "2. R\n",
    "3. Julia\n",
    "4. Java\n",
    "5. C++"
   ]
  },
  {
   "cell_type": "markdown",
   "id": "36cb9c75-2d5e-41e9-bdf5-3dfd83a2ceab",
   "metadata": {
    "tags": []
   },
   "source": [
    "Some of the commonly used libraries used by Data Scientists include:\n",
    "\n",
    "1. For scientific computing\n",
    "    1. Pandas\n",
    "    2. Numpy\n",
    "2. For visualization\n",
    "    1. Matplotlib\n",
    "    2. Seaborn\n",
    "3. Scikit-learn for high-level machine learning"
   ]
  },
  {
   "cell_type": "markdown",
   "id": "92768b67-b358-467c-b6e6-1b20350f1853",
   "metadata": {},
   "source": [
    "|Data Science Tools|\n",
    "|------------------|\n",
    "|Jupyter Notebook|\n",
    "|Jupyter Lab|\n",
    "|RStudio|"
   ]
  },
  {
   "cell_type": "markdown",
   "id": "24944aba-07e5-42be-b78a-5202e4448384",
   "metadata": {
    "tags": []
   },
   "source": [
    "### Below are a few examples of evaluating arithmetic expressions in Python"
   ]
  },
  {
   "cell_type": "markdown",
   "id": "69eead84-ee02-46fa-8d79-80e27bcc1945",
   "metadata": {},
   "source": [
    "This a simple arithmetic expression to mutiply then add integers"
   ]
  },
  {
   "cell_type": "code",
   "execution_count": 22,
   "id": "0bef1c34-5188-4eef-b261-3445151a0bdc",
   "metadata": {
    "tags": []
   },
   "outputs": [
    {
     "data": {
      "text/plain": [
       "17"
      ]
     },
     "execution_count": 22,
     "metadata": {},
     "output_type": "execute_result"
    }
   ],
   "source": [
    "(3*4)+5"
   ]
  },
  {
   "cell_type": "markdown",
   "id": "a01b4d04-5cb9-407f-879f-858990ce7931",
   "metadata": {},
   "source": [
    "This will convert 200 minutes to hours by diving by 60"
   ]
  },
  {
   "cell_type": "code",
   "execution_count": 27,
   "id": "f178d658-5a36-444e-a1d1-ceae469fb7f1",
   "metadata": {
    "tags": []
   },
   "outputs": [
    {
     "data": {
      "text/plain": [
       "3.3333333333333335"
      ]
     },
     "execution_count": 27,
     "metadata": {},
     "output_type": "execute_result"
    }
   ],
   "source": [
    "200/60"
   ]
  },
  {
   "cell_type": "markdown",
   "id": "c8627d7c-ae08-47e2-8693-dda5cec98135",
   "metadata": {},
   "source": [
    "## Author\n",
    "\n",
    "Muhammad Faris Fitri Bin Muhammad Juraidi"
   ]
  },
  {
   "cell_type": "code",
   "execution_count": null,
   "id": "57f52271-39a8-4472-9157-951bab438734",
   "metadata": {},
   "outputs": [],
   "source": []
  }
 ],
 "metadata": {
  "kernelspec": {
   "display_name": "Python 3 (ipykernel)",
   "language": "python",
   "name": "python3"
  },
  "language_info": {
   "codemirror_mode": {
    "name": "ipython",
    "version": 3
   },
   "file_extension": ".py",
   "mimetype": "text/x-python",
   "name": "python",
   "nbconvert_exporter": "python",
   "pygments_lexer": "ipython3",
   "version": "3.11.7"
  }
 },
 "nbformat": 4,
 "nbformat_minor": 5
}
